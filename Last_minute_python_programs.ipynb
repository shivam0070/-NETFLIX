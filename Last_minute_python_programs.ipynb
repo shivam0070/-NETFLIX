{
  "nbformat": 4,
  "nbformat_minor": 0,
  "metadata": {
    "colab": {
      "provenance": [],
      "include_colab_link": true
    },
    "kernelspec": {
      "name": "python3",
      "display_name": "Python 3"
    },
    "language_info": {
      "name": "python"
    }
  },
  "cells": [
    {
      "cell_type": "markdown",
      "metadata": {
        "id": "view-in-github",
        "colab_type": "text"
      },
      "source": [
        "<a href=\"https://colab.research.google.com/github/shivam0070/-NETFLIX/blob/main/Last_minute_python_programs.ipynb\" target=\"_parent\"><img src=\"https://colab.research.google.com/assets/colab-badge.svg\" alt=\"Open In Colab\"/></a>"
      ]
    },
    {
      "cell_type": "markdown",
      "source": [],
      "metadata": {
        "id": "l1NVfj5mlAy1"
      }
    },
    {
      "cell_type": "code",
      "execution_count": null,
      "metadata": {
        "colab": {
          "base_uri": "https://localhost:8080/"
        },
        "id": "hwu1MS4CSlve",
        "outputId": "757aece4-abc7-42ab-af7d-e6b3ba62313b"
      },
      "outputs": [
        {
          "output_type": "stream",
          "name": "stdout",
          "text": [
            "9718\n"
          ]
        }
      ],
      "source": [
        "# Reverse an Integerr\n",
        "\n",
        "n  = 8179\n",
        "rev = 0\n",
        "while n!=0:\n",
        "  rem = n % 10\n",
        "  rev  = rev*10 + rem\n",
        "  n= n//10\n",
        "print(rev)\n"
      ]
    },
    {
      "cell_type": "code",
      "source": [
        "# ARmstrong\n",
        "\n",
        "num = 407\n",
        "\n",
        "sum = 0\n",
        "temp = num\n",
        "\n",
        "while temp > 0:\n",
        "  digit = temp % 10\n",
        "  sum = sum  + digit**3 \n",
        "  temp = temp // 10\n",
        "\n",
        "if num == sum:\n",
        "  print(\"Armstronng\")\n",
        "else:\n",
        "  print(\"Not a Armstrong\")"
      ],
      "metadata": {
        "id": "jxl4nd5DtUP-"
      },
      "execution_count": null,
      "outputs": []
    },
    {
      "cell_type": "code",
      "source": [
        "n = 407\n",
        "rev = 0\n",
        "t=n\n",
        "while t>0:\n",
        "  rem = n%10\n",
        "  rev = rev + rem**3\n",
        "  n = n //10\n",
        "\n",
        "if n == rev:\n",
        "  print(\"armstrong\")\n",
        "else:\n",
        "  print(\"NOt Armstrong\")"
      ],
      "metadata": {
        "id": "BnlBL3sfli_n"
      },
      "execution_count": null,
      "outputs": []
    },
    {
      "cell_type": "code",
      "source": [
        "# Swap 2 numbers\n",
        "a = 25\n",
        "b = 75\n",
        "t = a\n",
        "a = b\n",
        "b = t\n",
        "\n",
        "print(a)\n",
        "print(b)"
      ],
      "metadata": {
        "colab": {
          "base_uri": "https://localhost:8080/"
        },
        "id": "tzGjFkEjS_o6",
        "outputId": "41a3fba9-515e-4b9c-8bcf-7f2682cf6c75"
      },
      "execution_count": null,
      "outputs": [
        {
          "output_type": "stream",
          "name": "stdout",
          "text": [
            "75\n",
            "25\n"
          ]
        }
      ]
    },
    {
      "cell_type": "code",
      "source": [
        "# Swap 1st and last numbers in a list\n",
        "a = [1,2,3,4,5]\n",
        "b = len(a)-1\n",
        "t = a[0]\n",
        "a[0] = a[b]\n",
        "a[b] = t\n",
        "\n",
        "print(\"1st ele is :\",a[0])\n",
        "print(\"last ele is :\",a[b])"
      ],
      "metadata": {
        "colab": {
          "base_uri": "https://localhost:8080/"
        },
        "id": "rt2ViQwCThhe",
        "outputId": "f7db6c75-e732-46dc-c498-124f7575fa2a"
      },
      "execution_count": null,
      "outputs": [
        {
          "output_type": "stream",
          "name": "stdout",
          "text": [
            "1st ele is : 5\n",
            "last ele is : 1\n"
          ]
        }
      ]
    },
    {
      "cell_type": "code",
      "source": [
        "# Smallest & largest number in a list\n",
        "a = [2,5,14,1]\n",
        "a.sort()\n",
        "print('Smallest number is',a[0])\n",
        "print(\"largest number is \",a[-1])\n",
        "print(\"2nd largest number is \",a[-2])"
      ],
      "metadata": {
        "colab": {
          "base_uri": "https://localhost:8080/"
        },
        "id": "Bu6oXiQKT5P7",
        "outputId": "e98c98de-d393-434e-a3d8-e666541783e7"
      },
      "execution_count": null,
      "outputs": [
        {
          "output_type": "stream",
          "name": "stdout",
          "text": [
            "Smallest number is 1\n",
            "largest number is  14\n",
            "2nd largest number is  5\n"
          ]
        }
      ]
    },
    {
      "cell_type": "code",
      "source": [
        "# Smallest number in list\n",
        "a = [2,5,14,1]\n",
        "min = a[0] \n",
        "for i in range(len(a)):\n",
        "  if a[i]<min:\n",
        "    min = a[i]\n",
        "print(min)"
      ],
      "metadata": {
        "colab": {
          "base_uri": "https://localhost:8080/"
        },
        "id": "2WrJ-UVTUiV2",
        "outputId": "88737dda-d8c9-49f7-a1ee-f52a94a814f4"
      },
      "execution_count": null,
      "outputs": [
        {
          "output_type": "stream",
          "name": "stdout",
          "text": [
            "1\n"
          ]
        }
      ]
    },
    {
      "cell_type": "code",
      "source": [
        "# largest number in list\n",
        "a = [2,5,14,1]\n",
        "max = a[0]\n",
        "for i in range(len(a)):\n",
        "  if a[i] > max:\n",
        "    max = a[i]\n",
        "print(max)"
      ],
      "metadata": {
        "colab": {
          "base_uri": "https://localhost:8080/"
        },
        "id": "JEuiplUPVaDc",
        "outputId": "08d6e7cd-8bf1-418f-c5a0-8ed33e0b6da2"
      },
      "execution_count": null,
      "outputs": [
        {
          "output_type": "stream",
          "name": "stdout",
          "text": [
            "14\n"
          ]
        }
      ]
    },
    {
      "cell_type": "code",
      "source": [
        "# Count number of  element in list\n",
        "a = [1,2,3,1,1,5,6,1]\n",
        "len(a)"
      ],
      "metadata": {
        "colab": {
          "base_uri": "https://localhost:8080/"
        },
        "id": "OsliHBQiV-3C",
        "outputId": "d27cc6ba-a52e-4c71-ecc6-ab872c34e5a8"
      },
      "execution_count": null,
      "outputs": [
        {
          "output_type": "execute_result",
          "data": {
            "text/plain": [
              "8"
            ]
          },
          "metadata": {},
          "execution_count": 31
        }
      ]
    },
    {
      "cell_type": "code",
      "source": [
        "# Count occurrences of an element\n",
        "a = [1,2,3,1,1,5,6,1]\n",
        "counter = 0\n",
        "for i in a:\n",
        "  counter = counter +1\n",
        "print(counter)"
      ],
      "metadata": {
        "colab": {
          "base_uri": "https://localhost:8080/"
        },
        "id": "hJMqccA8XddM",
        "outputId": "3d3cd2da-b6b6-4ce4-b2f4-8bbe98ccea49"
      },
      "execution_count": null,
      "outputs": [
        {
          "output_type": "stream",
          "name": "stdout",
          "text": [
            "8\n"
          ]
        }
      ]
    },
    {
      "cell_type": "code",
      "source": [
        "# Count occurrences of an element\n",
        "a = [1,2,3,1,1,5,6,1]\n",
        "a.count(1)"
      ],
      "metadata": {
        "colab": {
          "base_uri": "https://localhost:8080/"
        },
        "id": "vcTOsdFdYtbF",
        "outputId": "442b2f8b-83c7-4eb9-ff59-f4b6f92f6333"
      },
      "execution_count": null,
      "outputs": [
        {
          "output_type": "execute_result",
          "data": {
            "text/plain": [
              "4"
            ]
          },
          "metadata": {},
          "execution_count": 39
        }
      ]
    },
    {
      "cell_type": "code",
      "source": [
        "# Count occurrences of an element\n",
        "a = [1,2,3,1,1,5,6,1]\n",
        "c = 0\n",
        "for i in a:\n",
        "  if (i==1):\n",
        "    c = c+1\n",
        "print(c)"
      ],
      "metadata": {
        "colab": {
          "base_uri": "https://localhost:8080/"
        },
        "id": "_EvWNXcfXq3O",
        "outputId": "0515620c-904e-4a48-9011-17449000edba"
      },
      "execution_count": null,
      "outputs": [
        {
          "output_type": "stream",
          "name": "stdout",
          "text": [
            "4\n"
          ]
        }
      ]
    },
    {
      "cell_type": "code",
      "source": [
        "# Even number in a list\n",
        "a = [1,2,3,4,5,6,7,8,9,10]\n",
        "for i in range(len(a)):\n",
        "  if a[i]%2==0:\n",
        "    print(a[i])"
      ],
      "metadata": {
        "colab": {
          "base_uri": "https://localhost:8080/"
        },
        "id": "HbiWFZGEYglU",
        "outputId": "aab9a6ae-b9b0-487f-9989-8811a7a96dae"
      },
      "execution_count": null,
      "outputs": [
        {
          "output_type": "stream",
          "name": "stdout",
          "text": [
            "2\n",
            "4\n",
            "6\n",
            "8\n",
            "10\n"
          ]
        }
      ]
    },
    {
      "cell_type": "code",
      "source": [
        "# Odd number in a list\n",
        "a = [1,2,3,4,5,6,7,8,9,10]\n",
        "for i in range(len(a)):\n",
        "  if a[i]%2==1:\n",
        "    print(a[i])"
      ],
      "metadata": {
        "colab": {
          "base_uri": "https://localhost:8080/"
        },
        "id": "EDS078xCZfap",
        "outputId": "aaabbd65-3ac3-480d-ade5-ca3f0c4fea49"
      },
      "execution_count": null,
      "outputs": [
        {
          "output_type": "stream",
          "name": "stdout",
          "text": [
            "1\n",
            "3\n",
            "5\n",
            "7\n",
            "9\n"
          ]
        }
      ]
    },
    {
      "cell_type": "code",
      "source": [
        "# prime number\n",
        "# A prime number is a natural number greater than 1 that has no positive divisors other than 1 and itself. The first few prime numbers are {2, 3, 5, 7, 11, ….}. \n",
        "\n",
        "num = 11\n",
        "\n",
        "if num > 1:\n",
        "    for i in range(2, int(num/2)+1):\n",
        "        if (num % i) == 0:\n",
        "            print(num, \"is not a prime number\")\n",
        "            break\n",
        "    else:\n",
        "      print(num, \"is a prime number\")\n",
        "else:\n",
        "    print(num, \"is not a prime number\")"
      ],
      "metadata": {
        "colab": {
          "base_uri": "https://localhost:8080/"
        },
        "id": "HK__zFb9dXmU",
        "outputId": "b491ec55-9731-4efe-961a-4a302ce24a49"
      },
      "execution_count": null,
      "outputs": [
        {
          "output_type": "stream",
          "name": "stdout",
          "text": [
            "11 is a prime number\n"
          ]
        }
      ]
    },
    {
      "cell_type": "code",
      "source": [
        "num = 11\n",
        "\n",
        "if num> 1:\n",
        "  for i in range(2,(num//2)+1):\n",
        "    if num%i == 0:\n",
        "      print(\"prime\")\n",
        "      break\n",
        "\n",
        "  else:\n",
        "      print(\"not\")\n",
        "\n",
        "\n",
        "\n",
        "else:\n",
        "  print(\"NOt Prime\")"
      ],
      "metadata": {
        "colab": {
          "base_uri": "https://localhost:8080/"
        },
        "id": "qYVJ9UsMwOhX",
        "outputId": "9bc42323-e992-4523-8c2a-bc9b16096fa8"
      },
      "execution_count": null,
      "outputs": [
        {
          "output_type": "stream",
          "name": "stdout",
          "text": [
            "not\n"
          ]
        }
      ]
    },
    {
      "cell_type": "code",
      "source": [
        "n = 4\n",
        "fact = 1\n",
        "\n",
        "while n!=0:\n",
        "  fact = fact*n\n",
        "  n=n-1\n",
        "\n",
        "print(fact)"
      ],
      "metadata": {
        "colab": {
          "base_uri": "https://localhost:8080/"
        },
        "id": "qg4EJZjHxHo-",
        "outputId": "658fc5be-4b5d-432c-ebfc-d65b124a78e7"
      },
      "execution_count": null,
      "outputs": [
        {
          "output_type": "stream",
          "name": "stdout",
          "text": [
            "24\n"
          ]
        }
      ]
    },
    {
      "cell_type": "code",
      "source": [
        "# Factorial of a nummber\n",
        "n = 3\n",
        "fact = 1\n",
        "while n!=0:\n",
        "\n",
        "  fact = n*fact\n",
        "  n=n-1\n",
        "print(fact)"
      ],
      "metadata": {
        "colab": {
          "base_uri": "https://localhost:8080/"
        },
        "id": "qHVkN8FJZ7z1",
        "outputId": "cf121dff-bad0-4e12-ccc4-34fb190e068d"
      },
      "execution_count": null,
      "outputs": [
        {
          "output_type": "stream",
          "name": "stdout",
          "text": [
            "6\n"
          ]
        }
      ]
    },
    {
      "cell_type": "code",
      "source": [
        "def fibonacci(n):\n",
        "  if n<0:\n",
        "    print(\"incorrect input\")\n",
        "  elif n == 0:\n",
        "    return 0\n",
        "  elif n == 1:\n",
        "    return 1\n",
        "  else :\n",
        "    return(fibonacci(n-1)+fibonacci(n-2))\n",
        "\n",
        "print(fibonacci(7))"
      ],
      "metadata": {
        "colab": {
          "base_uri": "https://localhost:8080/"
        },
        "id": "zukkSjkKa4y-",
        "outputId": "1e22d9cb-e24e-48da-d696-5348f1a33ba1"
      },
      "execution_count": null,
      "outputs": [
        {
          "output_type": "stream",
          "name": "stdout",
          "text": [
            "13\n"
          ]
        }
      ]
    },
    {
      "cell_type": "code",
      "source": [
        "s = input()\n",
        "\n",
        "if s==s[::-1]:\n",
        "  print(\"Palindrome\")\n",
        "else:\n",
        "  print(\"Not a Palindrome\")"
      ],
      "metadata": {
        "colab": {
          "base_uri": "https://localhost:8080/"
        },
        "id": "JzQ6nILppnS_",
        "outputId": "cebf1036-11e6-41c2-eac4-fde515bcf588"
      },
      "execution_count": null,
      "outputs": [
        {
          "output_type": "stream",
          "name": "stdout",
          "text": [
            "madam\n",
            "Palindrome\n"
          ]
        }
      ]
    },
    {
      "cell_type": "code",
      "source": [
        "def palindrome(s):\n",
        "  \n",
        "  if s==s[::-1]:\n",
        "    print(\"Palindrome\")\n",
        "  else:\n",
        "    print(\"Not a Palindrome\")\n",
        "\n",
        "palindrome('Ruchi')"
      ],
      "metadata": {
        "colab": {
          "base_uri": "https://localhost:8080/"
        },
        "id": "xkzQYGUfqTHw",
        "outputId": "19faf18f-dddf-4c15-b087-5ce27eee850a"
      },
      "execution_count": null,
      "outputs": [
        {
          "output_type": "stream",
          "name": "stdout",
          "text": [
            "Not a Palindrome\n"
          ]
        }
      ]
    },
    {
      "cell_type": "code",
      "source": [
        "# ARmstrong\n",
        "\n",
        "num = 407\n",
        "\n",
        "sum = 0\n",
        "temp = num\n",
        "\n",
        "while temp > 0:\n",
        "  digit = temp % 10\n",
        "  sum = sum  + digit**3 \n",
        "  temp = temp // 10\n",
        "\n",
        "if num == sum:\n",
        "  print(\"Armstronng\")\n",
        "else:\n",
        "  print(\"Not a Armstrong\")\n"
      ],
      "metadata": {
        "colab": {
          "base_uri": "https://localhost:8080/"
        },
        "id": "EedMvP7IqoP5",
        "outputId": "8588c30c-a67e-4793-eb4c-370ae0f9c4ef"
      },
      "execution_count": null,
      "outputs": [
        {
          "output_type": "stream",
          "name": "stdout",
          "text": [
            "Armstronng\n"
          ]
        }
      ]
    },
    {
      "cell_type": "code",
      "source": [
        "num = int(input())\n",
        "sum = 0\n",
        "temp = num\n",
        "\n",
        "while temp > 0:\n",
        "  digit = temp%10\n",
        "  sum = sum+digit**3\n",
        "  temp = temp//10\n",
        "\n",
        "if num == sum:\n",
        "  print(\"arm\")\n",
        "else :\n",
        "  print(\"not\")"
      ],
      "metadata": {
        "colab": {
          "base_uri": "https://localhost:8080/"
        },
        "id": "YdHTlPWjsbXY",
        "outputId": "661e912c-deea-4d1d-a04a-571b2a92e1d8"
      },
      "execution_count": null,
      "outputs": [
        {
          "output_type": "stream",
          "name": "stdout",
          "text": [
            "407\n",
            "arm\n"
          ]
        }
      ]
    },
    {
      "cell_type": "code",
      "source": [
        "n = 5 \n",
        "for i in range(n):\n",
        "  for j in range(i,n):\n",
        "    print('*',end=' ')\n",
        "  print()"
      ],
      "metadata": {
        "colab": {
          "base_uri": "https://localhost:8080/"
        },
        "id": "YZNpBCxV1qbY",
        "outputId": "580fa791-1006-4e9a-edea-37a186ec66f7"
      },
      "execution_count": null,
      "outputs": [
        {
          "output_type": "stream",
          "name": "stdout",
          "text": [
            "* * * * * \n",
            "* * * * \n",
            "* * * \n",
            "* * \n",
            "* \n"
          ]
        }
      ]
    },
    {
      "cell_type": "code",
      "source": [
        "n = 5 \n",
        "for i in range(n):\n",
        "  for j in range(i+1):\n",
        "    print('*',end=' ')\n",
        "  print()"
      ],
      "metadata": {
        "colab": {
          "base_uri": "https://localhost:8080/"
        },
        "id": "WPv7dxfQ1D8e",
        "outputId": "76ac4741-5166-4e7e-9315-ebd505249b01"
      },
      "execution_count": null,
      "outputs": [
        {
          "output_type": "stream",
          "name": "stdout",
          "text": [
            "* \n",
            "* * \n",
            "* * * \n",
            "* * * * \n",
            "* * * * * \n"
          ]
        }
      ]
    },
    {
      "cell_type": "code",
      "source": [
        "n = 5 \n",
        "for i in range(n):\n",
        "  for j in range(i,n):\n",
        "    print(' ',end=' ')\n",
        "  for j in range(i+1):\n",
        "    print('*',end=' ')\n",
        "  print()"
      ],
      "metadata": {
        "colab": {
          "base_uri": "https://localhost:8080/"
        },
        "id": "8h69V8HP1bLg",
        "outputId": "3ebd03a5-e05c-4de1-b08a-a357a49d74cd"
      },
      "execution_count": null,
      "outputs": [
        {
          "output_type": "stream",
          "name": "stdout",
          "text": [
            "          * \n",
            "        * * \n",
            "      * * * \n",
            "    * * * * \n",
            "  * * * * * \n"
          ]
        }
      ]
    },
    {
      "cell_type": "code",
      "source": [
        "n = 5 \n",
        "for i in range(n):\n",
        "  for j in range(i,n):\n",
        "    print(' ',end=' ')\n",
        "  for j in range(i):\n",
        "    print('*',end=' ')\n",
        "  for j in range(i+1):\n",
        "    print('*',end=' ')\n",
        "  print()"
      ],
      "metadata": {
        "colab": {
          "base_uri": "https://localhost:8080/"
        },
        "id": "pyBWudQ-2DHO",
        "outputId": "5223c425-496a-4a11-da45-09fc712ee6a6"
      },
      "execution_count": null,
      "outputs": [
        {
          "output_type": "stream",
          "name": "stdout",
          "text": [
            "          * \n",
            "        * * * \n",
            "      * * * * * \n",
            "    * * * * * * * \n",
            "  * * * * * * * * * \n"
          ]
        }
      ]
    },
    {
      "cell_type": "code",
      "source": [
        "n = 5 \n",
        "for i in range(n):\n",
        "  for j in range(i+1):\n",
        "    print(' ',end=' ')\n",
        "  for j in range(i,n):\n",
        "    print('*',end=' ')\n",
        "  print()"
      ],
      "metadata": {
        "colab": {
          "base_uri": "https://localhost:8080/"
        },
        "id": "6YUpxcvV1nhd",
        "outputId": "bf7a84d2-1048-44da-f79e-be39ec5fd471"
      },
      "execution_count": null,
      "outputs": [
        {
          "output_type": "stream",
          "name": "stdout",
          "text": [
            "  * * * * * \n",
            "    * * * * \n",
            "      * * * \n",
            "        * * \n",
            "          * \n"
          ]
        }
      ]
    },
    {
      "cell_type": "code",
      "source": [
        "n = 5 \n",
        "for i in range(n):\n",
        "  for j in range(i+1):\n",
        "    print(' ',end=' ')\n",
        "  for j in range(i,n):\n",
        "    print('*',end=' ')\n",
        "  for j in range(i+1,n):\n",
        "    print('*',end=' ')\n",
        "  print()"
      ],
      "metadata": {
        "colab": {
          "base_uri": "https://localhost:8080/"
        },
        "id": "kPvDkk8019bo",
        "outputId": "cf48e540-3e1e-42c5-83ad-f3e0718468ff"
      },
      "execution_count": null,
      "outputs": [
        {
          "output_type": "stream",
          "name": "stdout",
          "text": [
            "  * * * * * * * * * \n",
            "    * * * * * * * \n",
            "      * * * * * \n",
            "        * * * \n",
            "          * \n"
          ]
        }
      ]
    },
    {
      "cell_type": "code",
      "source": [
        "n = 5 \n",
        "for i in range(n):\n",
        "  for j in range(i,n):\n",
        "    print(' ',end=' ')\n",
        "  for j in range(i+1):\n",
        "    print('*',end=' ')\n",
        "  for j in range(n+1,i):\n",
        "    print('*',end=' ')\n",
        "  print()"
      ],
      "metadata": {
        "id": "ciiV_iub2Qc2",
        "colab": {
          "base_uri": "https://localhost:8080/"
        },
        "outputId": "e7163664-795b-4c3f-8981-afc720853298"
      },
      "execution_count": null,
      "outputs": [
        {
          "output_type": "stream",
          "name": "stdout",
          "text": [
            "          * \n",
            "        * * \n",
            "      * * * \n",
            "    * * * * \n",
            "  * * * * * \n"
          ]
        }
      ]
    },
    {
      "cell_type": "code",
      "source": [],
      "metadata": {
        "id": "Cx4khHMXH6LI"
      },
      "execution_count": null,
      "outputs": []
    }
  ]
}